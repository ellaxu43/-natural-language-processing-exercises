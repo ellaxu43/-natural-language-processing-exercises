{
 "cells": [
  {
   "cell_type": "code",
   "execution_count": 1,
   "id": "16066d1e",
   "metadata": {},
   "outputs": [],
   "source": [
    "import re\n",
    "import pandas as pd\n"
   ]
  },
  {
   "cell_type": "markdown",
   "id": "29e6b31e",
   "metadata": {},
   "source": [
    "Exercise 1\n",
    "Write a function named is_vowel. It should accept a string as input and use a regular expression to determine if the passed string is a vowel. While not explicity mentioned in the lesson, you can treat the result of re.search as a boolean value that indicates whether or not the regular expression matches the given string."
   ]
  },
  {
   "cell_type": "code",
   "execution_count": 2,
   "id": "628e5f78",
   "metadata": {},
   "outputs": [
    {
     "data": {
      "text/plain": [
       "<re.Match object; span=(0, 1), match='a'>"
      ]
     },
     "execution_count": 2,
     "metadata": {},
     "output_type": "execute_result"
    }
   ],
   "source": [
    "\n",
    "re.search(r\"^(a|e|i|o|u)$\", \"a\", re.IGNORECASE)"
   ]
  },
  {
   "cell_type": "code",
   "execution_count": 3,
   "id": "7d7e7001",
   "metadata": {},
   "outputs": [],
   "source": [
    "\n",
    "re.search(r\"^(a|e|i|o|u)$\", \"aeiou\", re.IGNORECASE)"
   ]
  },
  {
   "cell_type": "code",
   "execution_count": 4,
   "id": "f169af0b",
   "metadata": {},
   "outputs": [],
   "source": [
    "def is_vowel(string):\n",
    "    return bool(re.search(r\"^[aeiou]$\", string, re.IGNORECASE))\n",
    "    \n",
    "assert is_vowel(\"a\") == True\n",
    "assert is_vowel(\"E\") == True\n",
    "assert is_vowel(\"aaa\") == False\n",
    "assert is_vowel(\"aeiou\") == False"
   ]
  },
  {
   "cell_type": "markdown",
   "id": "dff229e9",
   "metadata": {},
   "source": [
    "Exercise 2\n",
    "Write a function named is_validusername that accepts a string as input. A valid username starts with a lowercase letter, and only consists of lowercase letters, numbers, or the character. It should also be no longer than 32 characters. The function should return either True or False depending on whether the passed string is a valid username."
   ]
  },
  {
   "cell_type": "code",
   "execution_count": 5,
   "id": "ea639853",
   "metadata": {},
   "outputs": [],
   "source": [
    "def is_valid_username(string):\n",
    "    pattern = r\"^[a-z][a-z0-9_]{,31}$\"\n",
    "    return bool(re.search(pattern, string))\n",
    "\n",
    "assert is_valid_username(\"codeup\") == True\n",
    "assert is_valid_username(\"codeup123\") == True\n",
    "assert is_valid_username(\"123Codeup\") == False\n",
    "assert is_valid_username(\"CodeupCodeup!\") == False\n",
    "assert is_valid_username(\"aaaCODEUPCODEUPaaaaaaaaaaaaaaaaaaaaaaaaaa\") == False"
   ]
  },
  {
   "cell_type": "markdown",
   "id": "fde5679e",
   "metadata": {},
   "source": [
    "Exercise 3\n",
    "Write a regular expression to capture phone numbers. It should match all of the following:\n",
    "\n",
    "(210) 867 5309\n",
    "+1 210.867.5309\n",
    "867-5309\n",
    "210-867-5309\n",
    "Problem solving process:\n",
    "Put the subject strings in order of increasing complexity\n",
    "Solve them one at a time and build an iterative solution\n",
    "Add optionality as the pattern increases in parts"
   ]
  },
  {
   "cell_type": "code",
   "execution_count": 6,
   "id": "eeb0610b",
   "metadata": {},
   "outputs": [],
   "source": [
    "phone_regex = re.compile(\n",
    "\"\"\"\n",
    "^\n",
    "(?P<country_code>\\+\\d+)?\n",
    "\\D*?\n",
    "(?P<area_code>\\d{3})?\n",
    "\\D*?\n",
    "(?P<exchange_code>\\d{3})\n",
    "\\D*?\n",
    "(?P<line_number>\\d{4})\n",
    "\"\"\", re.VERBOSE)"
   ]
  },
  {
   "cell_type": "code",
   "execution_count": 7,
   "id": "4e9640ce",
   "metadata": {},
   "outputs": [
    {
     "data": {
      "text/html": [
       "<div>\n",
       "<style scoped>\n",
       "    .dataframe tbody tr th:only-of-type {\n",
       "        vertical-align: middle;\n",
       "    }\n",
       "\n",
       "    .dataframe tbody tr th {\n",
       "        vertical-align: top;\n",
       "    }\n",
       "\n",
       "    .dataframe thead th {\n",
       "        text-align: right;\n",
       "    }\n",
       "</style>\n",
       "<table border=\"1\" class=\"dataframe\">\n",
       "  <thead>\n",
       "    <tr style=\"text-align: right;\">\n",
       "      <th></th>\n",
       "      <th>number</th>\n",
       "    </tr>\n",
       "  </thead>\n",
       "  <tbody>\n",
       "    <tr>\n",
       "      <th>0</th>\n",
       "      <td>(210) 867 5309</td>\n",
       "    </tr>\n",
       "    <tr>\n",
       "      <th>1</th>\n",
       "      <td>+1 210.867.5309</td>\n",
       "    </tr>\n",
       "    <tr>\n",
       "      <th>2</th>\n",
       "      <td>867-5309</td>\n",
       "    </tr>\n",
       "    <tr>\n",
       "      <th>3</th>\n",
       "      <td>210-867-5309</td>\n",
       "    </tr>\n",
       "    <tr>\n",
       "      <th>4</th>\n",
       "      <td>2108675309</td>\n",
       "    </tr>\n",
       "  </tbody>\n",
       "</table>\n",
       "</div>"
      ],
      "text/plain": [
       "            number\n",
       "0   (210) 867 5309\n",
       "1  +1 210.867.5309\n",
       "2         867-5309\n",
       "3     210-867-5309\n",
       "4       2108675309"
      ]
     },
     "execution_count": 7,
     "metadata": {},
     "output_type": "execute_result"
    }
   ],
   "source": [
    "df = pd.DataFrame()\n",
    "df['number'] = [\n",
    "    '(210) 867 5309',\n",
    "    '+1 210.867.5309',\n",
    "    '867-5309',\n",
    "    '210-867-5309',\n",
    "    '2108675309',\n",
    "]\n",
    "df"
   ]
  },
  {
   "cell_type": "code",
   "execution_count": 8,
   "id": "42a252e1",
   "metadata": {},
   "outputs": [
    {
     "data": {
      "text/html": [
       "<div>\n",
       "<style scoped>\n",
       "    .dataframe tbody tr th:only-of-type {\n",
       "        vertical-align: middle;\n",
       "    }\n",
       "\n",
       "    .dataframe tbody tr th {\n",
       "        vertical-align: top;\n",
       "    }\n",
       "\n",
       "    .dataframe thead th {\n",
       "        text-align: right;\n",
       "    }\n",
       "</style>\n",
       "<table border=\"1\" class=\"dataframe\">\n",
       "  <thead>\n",
       "    <tr style=\"text-align: right;\">\n",
       "      <th></th>\n",
       "      <th>country_code</th>\n",
       "      <th>area_code</th>\n",
       "      <th>exchange_code</th>\n",
       "      <th>line_number</th>\n",
       "    </tr>\n",
       "  </thead>\n",
       "  <tbody>\n",
       "    <tr>\n",
       "      <th>0</th>\n",
       "      <td>NaN</td>\n",
       "      <td>210</td>\n",
       "      <td>867</td>\n",
       "      <td>5309</td>\n",
       "    </tr>\n",
       "    <tr>\n",
       "      <th>1</th>\n",
       "      <td>+1</td>\n",
       "      <td>210</td>\n",
       "      <td>867</td>\n",
       "      <td>5309</td>\n",
       "    </tr>\n",
       "    <tr>\n",
       "      <th>2</th>\n",
       "      <td>NaN</td>\n",
       "      <td>NaN</td>\n",
       "      <td>867</td>\n",
       "      <td>5309</td>\n",
       "    </tr>\n",
       "    <tr>\n",
       "      <th>3</th>\n",
       "      <td>NaN</td>\n",
       "      <td>210</td>\n",
       "      <td>867</td>\n",
       "      <td>5309</td>\n",
       "    </tr>\n",
       "    <tr>\n",
       "      <th>4</th>\n",
       "      <td>NaN</td>\n",
       "      <td>210</td>\n",
       "      <td>867</td>\n",
       "      <td>5309</td>\n",
       "    </tr>\n",
       "  </tbody>\n",
       "</table>\n",
       "</div>"
      ],
      "text/plain": [
       "  country_code area_code exchange_code line_number\n",
       "0          NaN       210           867        5309\n",
       "1           +1       210           867        5309\n",
       "2          NaN       NaN           867        5309\n",
       "3          NaN       210           867        5309\n",
       "4          NaN       210           867        5309"
      ]
     },
     "execution_count": 8,
     "metadata": {},
     "output_type": "execute_result"
    }
   ],
   "source": [
    "df.number.str.extract(phone_regex)"
   ]
  },
  {
   "cell_type": "code",
   "execution_count": 9,
   "id": "8d00a872",
   "metadata": {},
   "outputs": [
    {
     "data": {
      "text/html": [
       "<div>\n",
       "<style scoped>\n",
       "    .dataframe tbody tr th:only-of-type {\n",
       "        vertical-align: middle;\n",
       "    }\n",
       "\n",
       "    .dataframe tbody tr th {\n",
       "        vertical-align: top;\n",
       "    }\n",
       "\n",
       "    .dataframe thead th {\n",
       "        text-align: right;\n",
       "    }\n",
       "</style>\n",
       "<table border=\"1\" class=\"dataframe\">\n",
       "  <thead>\n",
       "    <tr style=\"text-align: right;\">\n",
       "      <th></th>\n",
       "      <th>number</th>\n",
       "      <th>country_code</th>\n",
       "      <th>area_code</th>\n",
       "      <th>exchange_code</th>\n",
       "      <th>line_number</th>\n",
       "    </tr>\n",
       "  </thead>\n",
       "  <tbody>\n",
       "    <tr>\n",
       "      <th>0</th>\n",
       "      <td>(210) 867 5309</td>\n",
       "      <td>NaN</td>\n",
       "      <td>210</td>\n",
       "      <td>867</td>\n",
       "      <td>5309</td>\n",
       "    </tr>\n",
       "    <tr>\n",
       "      <th>1</th>\n",
       "      <td>+1 210.867.5309</td>\n",
       "      <td>+1</td>\n",
       "      <td>210</td>\n",
       "      <td>867</td>\n",
       "      <td>5309</td>\n",
       "    </tr>\n",
       "    <tr>\n",
       "      <th>2</th>\n",
       "      <td>867-5309</td>\n",
       "      <td>NaN</td>\n",
       "      <td>NaN</td>\n",
       "      <td>867</td>\n",
       "      <td>5309</td>\n",
       "    </tr>\n",
       "    <tr>\n",
       "      <th>3</th>\n",
       "      <td>210-867-5309</td>\n",
       "      <td>NaN</td>\n",
       "      <td>210</td>\n",
       "      <td>867</td>\n",
       "      <td>5309</td>\n",
       "    </tr>\n",
       "    <tr>\n",
       "      <th>4</th>\n",
       "      <td>2108675309</td>\n",
       "      <td>NaN</td>\n",
       "      <td>210</td>\n",
       "      <td>867</td>\n",
       "      <td>5309</td>\n",
       "    </tr>\n",
       "  </tbody>\n",
       "</table>\n",
       "</div>"
      ],
      "text/plain": [
       "            number country_code area_code exchange_code line_number\n",
       "0   (210) 867 5309          NaN       210           867        5309\n",
       "1  +1 210.867.5309           +1       210           867        5309\n",
       "2         867-5309          NaN       NaN           867        5309\n",
       "3     210-867-5309          NaN       210           867        5309\n",
       "4       2108675309          NaN       210           867        5309"
      ]
     },
     "execution_count": 9,
     "metadata": {},
     "output_type": "execute_result"
    }
   ],
   "source": [
    "df = pd.concat([df, df.number.str.extract(phone_regex)], axis=1)\n",
    "df"
   ]
  },
  {
   "cell_type": "markdown",
   "id": "88815dd3",
   "metadata": {},
   "source": [
    "Exercise 4\n",
    "Use regular expressions to convert the dates below to the standardized year-month-day format.\n",
    "\n",
    "02/04/19\n",
    "02/05/19\n",
    "02/06/19\n",
    "02/07/19\n",
    "02/08/19\n",
    "02/09/19\n",
    "02/10/19"
   ]
  },
  {
   "cell_type": "code",
   "execution_count": 10,
   "id": "e821475a",
   "metadata": {},
   "outputs": [
    {
     "data": {
      "text/html": [
       "<div>\n",
       "<style scoped>\n",
       "    .dataframe tbody tr th:only-of-type {\n",
       "        vertical-align: middle;\n",
       "    }\n",
       "\n",
       "    .dataframe tbody tr th {\n",
       "        vertical-align: top;\n",
       "    }\n",
       "\n",
       "    .dataframe thead th {\n",
       "        text-align: right;\n",
       "    }\n",
       "</style>\n",
       "<table border=\"1\" class=\"dataframe\">\n",
       "  <thead>\n",
       "    <tr style=\"text-align: right;\">\n",
       "      <th></th>\n",
       "      <th>original</th>\n",
       "    </tr>\n",
       "  </thead>\n",
       "  <tbody>\n",
       "    <tr>\n",
       "      <th>0</th>\n",
       "      <td>02/04/19</td>\n",
       "    </tr>\n",
       "    <tr>\n",
       "      <th>1</th>\n",
       "      <td>02/05/19</td>\n",
       "    </tr>\n",
       "    <tr>\n",
       "      <th>2</th>\n",
       "      <td>02/06/19</td>\n",
       "    </tr>\n",
       "    <tr>\n",
       "      <th>3</th>\n",
       "      <td>02/07/19</td>\n",
       "    </tr>\n",
       "    <tr>\n",
       "      <th>4</th>\n",
       "      <td>02/08/19</td>\n",
       "    </tr>\n",
       "    <tr>\n",
       "      <th>5</th>\n",
       "      <td>02/09/19</td>\n",
       "    </tr>\n",
       "    <tr>\n",
       "      <th>6</th>\n",
       "      <td>02/10/19</td>\n",
       "    </tr>\n",
       "  </tbody>\n",
       "</table>\n",
       "</div>"
      ],
      "text/plain": [
       "   original\n",
       "0  02/04/19\n",
       "1  02/05/19\n",
       "2  02/06/19\n",
       "3  02/07/19\n",
       "4  02/08/19\n",
       "5  02/09/19\n",
       "6  02/10/19"
      ]
     },
     "execution_count": 10,
     "metadata": {},
     "output_type": "execute_result"
    }
   ],
   "source": [
    "dates = [\n",
    "    \"02/04/19\",\n",
    "    \"02/05/19\",\n",
    "    \"02/06/19\",\n",
    "    \"02/07/19\",\n",
    "    \"02/08/19\",\n",
    "    \"02/09/19\",\n",
    "    \"02/10/19\"\n",
    "]\n",
    "\n",
    "df = pd.DataFrame({\"original\": dates})\n",
    "df"
   ]
  },
  {
   "cell_type": "code",
   "execution_count": 11,
   "id": "52a6808b",
   "metadata": {},
   "outputs": [],
   "source": [
    "pattern = re.compile(r\"\"\"\n",
    "(?P<month>\\d{2})/\n",
    "(?P<day>\\d{2})/\n",
    "(?P<year>\\d{2})\n",
    "\"\"\", re.VERBOSE)"
   ]
  },
  {
   "cell_type": "code",
   "execution_count": 12,
   "id": "33a623c6",
   "metadata": {},
   "outputs": [
    {
     "data": {
      "text/html": [
       "<div>\n",
       "<style scoped>\n",
       "    .dataframe tbody tr th:only-of-type {\n",
       "        vertical-align: middle;\n",
       "    }\n",
       "\n",
       "    .dataframe tbody tr th {\n",
       "        vertical-align: top;\n",
       "    }\n",
       "\n",
       "    .dataframe thead th {\n",
       "        text-align: right;\n",
       "    }\n",
       "</style>\n",
       "<table border=\"1\" class=\"dataframe\">\n",
       "  <thead>\n",
       "    <tr style=\"text-align: right;\">\n",
       "      <th></th>\n",
       "      <th>original</th>\n",
       "      <th>month</th>\n",
       "      <th>day</th>\n",
       "      <th>year</th>\n",
       "    </tr>\n",
       "  </thead>\n",
       "  <tbody>\n",
       "    <tr>\n",
       "      <th>0</th>\n",
       "      <td>02/04/19</td>\n",
       "      <td>02</td>\n",
       "      <td>04</td>\n",
       "      <td>19</td>\n",
       "    </tr>\n",
       "    <tr>\n",
       "      <th>1</th>\n",
       "      <td>02/05/19</td>\n",
       "      <td>02</td>\n",
       "      <td>05</td>\n",
       "      <td>19</td>\n",
       "    </tr>\n",
       "    <tr>\n",
       "      <th>2</th>\n",
       "      <td>02/06/19</td>\n",
       "      <td>02</td>\n",
       "      <td>06</td>\n",
       "      <td>19</td>\n",
       "    </tr>\n",
       "    <tr>\n",
       "      <th>3</th>\n",
       "      <td>02/07/19</td>\n",
       "      <td>02</td>\n",
       "      <td>07</td>\n",
       "      <td>19</td>\n",
       "    </tr>\n",
       "    <tr>\n",
       "      <th>4</th>\n",
       "      <td>02/08/19</td>\n",
       "      <td>02</td>\n",
       "      <td>08</td>\n",
       "      <td>19</td>\n",
       "    </tr>\n",
       "    <tr>\n",
       "      <th>5</th>\n",
       "      <td>02/09/19</td>\n",
       "      <td>02</td>\n",
       "      <td>09</td>\n",
       "      <td>19</td>\n",
       "    </tr>\n",
       "    <tr>\n",
       "      <th>6</th>\n",
       "      <td>02/10/19</td>\n",
       "      <td>02</td>\n",
       "      <td>10</td>\n",
       "      <td>19</td>\n",
       "    </tr>\n",
       "  </tbody>\n",
       "</table>\n",
       "</div>"
      ],
      "text/plain": [
       "   original month day year\n",
       "0  02/04/19    02  04   19\n",
       "1  02/05/19    02  05   19\n",
       "2  02/06/19    02  06   19\n",
       "3  02/07/19    02  07   19\n",
       "4  02/08/19    02  08   19\n",
       "5  02/09/19    02  09   19\n",
       "6  02/10/19    02  10   19"
      ]
     },
     "execution_count": 12,
     "metadata": {},
     "output_type": "execute_result"
    }
   ],
   "source": [
    "df = pd.concat([df, df.original.str.extract(pattern)], axis=1)\n",
    "df"
   ]
  },
  {
   "cell_type": "code",
   "execution_count": 13,
   "id": "8e65add2",
   "metadata": {},
   "outputs": [
    {
     "data": {
      "text/html": [
       "<div>\n",
       "<style scoped>\n",
       "    .dataframe tbody tr th:only-of-type {\n",
       "        vertical-align: middle;\n",
       "    }\n",
       "\n",
       "    .dataframe tbody tr th {\n",
       "        vertical-align: top;\n",
       "    }\n",
       "\n",
       "    .dataframe thead th {\n",
       "        text-align: right;\n",
       "    }\n",
       "</style>\n",
       "<table border=\"1\" class=\"dataframe\">\n",
       "  <thead>\n",
       "    <tr style=\"text-align: right;\">\n",
       "      <th></th>\n",
       "      <th>original</th>\n",
       "      <th>month</th>\n",
       "      <th>day</th>\n",
       "      <th>year</th>\n",
       "      <th>new_format</th>\n",
       "    </tr>\n",
       "  </thead>\n",
       "  <tbody>\n",
       "    <tr>\n",
       "      <th>0</th>\n",
       "      <td>02/04/19</td>\n",
       "      <td>02</td>\n",
       "      <td>04</td>\n",
       "      <td>19</td>\n",
       "      <td>19/02/04</td>\n",
       "    </tr>\n",
       "    <tr>\n",
       "      <th>1</th>\n",
       "      <td>02/05/19</td>\n",
       "      <td>02</td>\n",
       "      <td>05</td>\n",
       "      <td>19</td>\n",
       "      <td>19/02/05</td>\n",
       "    </tr>\n",
       "    <tr>\n",
       "      <th>2</th>\n",
       "      <td>02/06/19</td>\n",
       "      <td>02</td>\n",
       "      <td>06</td>\n",
       "      <td>19</td>\n",
       "      <td>19/02/06</td>\n",
       "    </tr>\n",
       "    <tr>\n",
       "      <th>3</th>\n",
       "      <td>02/07/19</td>\n",
       "      <td>02</td>\n",
       "      <td>07</td>\n",
       "      <td>19</td>\n",
       "      <td>19/02/07</td>\n",
       "    </tr>\n",
       "    <tr>\n",
       "      <th>4</th>\n",
       "      <td>02/08/19</td>\n",
       "      <td>02</td>\n",
       "      <td>08</td>\n",
       "      <td>19</td>\n",
       "      <td>19/02/08</td>\n",
       "    </tr>\n",
       "    <tr>\n",
       "      <th>5</th>\n",
       "      <td>02/09/19</td>\n",
       "      <td>02</td>\n",
       "      <td>09</td>\n",
       "      <td>19</td>\n",
       "      <td>19/02/09</td>\n",
       "    </tr>\n",
       "    <tr>\n",
       "      <th>6</th>\n",
       "      <td>02/10/19</td>\n",
       "      <td>02</td>\n",
       "      <td>10</td>\n",
       "      <td>19</td>\n",
       "      <td>19/02/10</td>\n",
       "    </tr>\n",
       "  </tbody>\n",
       "</table>\n",
       "</div>"
      ],
      "text/plain": [
       "   original month day year new_format\n",
       "0  02/04/19    02  04   19   19/02/04\n",
       "1  02/05/19    02  05   19   19/02/05\n",
       "2  02/06/19    02  06   19   19/02/06\n",
       "3  02/07/19    02  07   19   19/02/07\n",
       "4  02/08/19    02  08   19   19/02/08\n",
       "5  02/09/19    02  09   19   19/02/09\n",
       "6  02/10/19    02  10   19   19/02/10"
      ]
     },
     "execution_count": 13,
     "metadata": {},
     "output_type": "execute_result"
    }
   ],
   "source": [
    "df[\"new_format\"] = df.year + \"/\" + df.month + \"/\" + df.day \n",
    "df"
   ]
  },
  {
   "cell_type": "markdown",
   "id": "6e19df94",
   "metadata": {},
   "source": [
    "Exercise 5\n",
    "Write a regex to extract the various parts of these logfile lines:\n",
    "\n",
    "GET /api/v1/sales?page=86 [16/Apr/2019:193452+0000] HTTP/1.1 {200} 510348 \"python-requests/2.21.0\" 97.105.19.58\n",
    "\n",
    "POST /users_accounts/file-upload [16/Apr/2019:193452+0000] HTTP/1.1 {201} 42 \"User-Agent: Mozilla/5.0 (X11; Fedora; Fedora; Linux x86_64) AppleWebKit/537.36 (KHTML, like Gecko) Chrome/73.0.3683.86 Safari/537.36\" 97.105.19.58\n",
    "\n",
    "GET /api/v1/items?page=3 [16/Apr/2019:193453+0000] HTTP/1.1 {429} 3561 \"python-requests/2.21.0\" 97.105.19.58"
   ]
  },
  {
   "cell_type": "code",
   "execution_count": 14,
   "id": "797379d0",
   "metadata": {},
   "outputs": [
    {
     "data": {
      "text/plain": [
       "['GET /api/v1/sales?page=86 [16/Apr/2019:193452+0000] HTTP/1.1 {200} 510348 \"python-requests/2.21.0\" 97.105.19.58',\n",
       " 'POST /users_accounts/file-upload [16/Apr/2019:193452+0000] HTTP/1.1 {201} 42 \"User-Agent: Mozilla/5.0 (X11; Fedora; Fedora; Linux x86_64) AppleWebKit/537.36 (KHTML, like Gecko) Chrome/73.0.3683.86 Safari/537.36\" 97.105.19.58',\n",
       " 'GET /api/v1/items?page=3 [16/Apr/2019:193453+0000] HTTP/1.1 {429} 3561 \"python-requests/2.21.0\" 97.105.19.58']"
      ]
     },
     "execution_count": 14,
     "metadata": {},
     "output_type": "execute_result"
    }
   ],
   "source": [
    "lines = [\n",
    "    \"\"\"GET /api/v1/sales?page=86 [16/Apr/2019:193452+0000] HTTP/1.1 {200} 510348 \"python-requests/2.21.0\" 97.105.19.58\"\"\",\n",
    "    \"\"\"POST /users_accounts/file-upload [16/Apr/2019:193452+0000] HTTP/1.1 {201} 42 \"User-Agent: Mozilla/5.0 (X11; Fedora; Fedora; Linux x86_64) AppleWebKit/537.36 (KHTML, like Gecko) Chrome/73.0.3683.86 Safari/537.36\" 97.105.19.58\"\"\",\n",
    "    \"\"\"GET /api/v1/items?page=3 [16/Apr/2019:193453+0000] HTTP/1.1 {429} 3561 \"python-requests/2.21.0\" 97.105.19.58\"\"\"\n",
    "]\n",
    "lines"
   ]
  },
  {
   "cell_type": "code",
   "execution_count": 15,
   "id": "80b6bdb9",
   "metadata": {},
   "outputs": [
    {
     "data": {
      "text/plain": [
       "<re.Match object; span=(65, 75), match='} 510348 \"'>"
      ]
     },
     "execution_count": 15,
     "metadata": {},
     "output_type": "execute_result"
    }
   ],
   "source": [
    "x = re.compile(\"\"\"\n",
    "\\}\\s(?P<bytes>\\d+)\\s\\\"\n",
    "\"\"\", re.VERBOSE)\n",
    "match = re.search(x, lines[0])\n",
    "match"
   ]
  },
  {
   "cell_type": "code",
   "execution_count": 16,
   "id": "462f061a",
   "metadata": {},
   "outputs": [
    {
     "data": {
      "text/plain": [
       "'510348'"
      ]
     },
     "execution_count": 16,
     "metadata": {},
     "output_type": "execute_result"
    }
   ],
   "source": [
    "\n",
    "match.group(\"bytes\")"
   ]
  },
  {
   "cell_type": "code",
   "execution_count": 17,
   "id": "b41e704a",
   "metadata": {},
   "outputs": [],
   "source": [
    "log_pattern = re.compile(r\"\"\"\n",
    "(?P<method>GET|POST) \n",
    "\\s\n",
    "(?P<path>/[/\\w\\-\\?=]+)\n",
    "\\s\n",
    "\\[(?P<timestamp>.+)\\]\n",
    "\\s\n",
    "(?P<http_version>HTTP/\\d+\\.\\d+)\n",
    "\\s\n",
    "\\{(?P<status_code>\\d+)\\}\n",
    "\\s\n",
    "(?P<bytes>\\d+)\n",
    "\\s\n",
    "\"(?P<user_agent>.+)\"\n",
    "\\s\n",
    "(?P<ip>\\d{1,3}\\.\\d{1,3}\\.\\d{1,3}\\.\\d{1,3})\n",
    "$\n",
    "\"\"\", re.VERBOSE)"
   ]
  },
  {
   "cell_type": "code",
   "execution_count": 18,
   "id": "c4984838",
   "metadata": {},
   "outputs": [
    {
     "data": {
      "text/plain": [
       "[{'method': 'GET',\n",
       "  'path': '/api/v1/sales?page=86',\n",
       "  'timestamp': '16/Apr/2019:193452+0000',\n",
       "  'http_version': 'HTTP/1.1',\n",
       "  'status_code': '200',\n",
       "  'bytes': '510348',\n",
       "  'user_agent': 'python-requests/2.21.0',\n",
       "  'ip': '97.105.19.58'},\n",
       " {'method': 'POST',\n",
       "  'path': '/users_accounts/file-upload',\n",
       "  'timestamp': '16/Apr/2019:193452+0000',\n",
       "  'http_version': 'HTTP/1.1',\n",
       "  'status_code': '201',\n",
       "  'bytes': '42',\n",
       "  'user_agent': 'User-Agent: Mozilla/5.0 (X11; Fedora; Fedora; Linux x86_64) AppleWebKit/537.36 (KHTML, like Gecko) Chrome/73.0.3683.86 Safari/537.36',\n",
       "  'ip': '97.105.19.58'},\n",
       " {'method': 'GET',\n",
       "  'path': '/api/v1/items?page=3',\n",
       "  'timestamp': '16/Apr/2019:193453+0000',\n",
       "  'http_version': 'HTTP/1.1',\n",
       "  'status_code': '429',\n",
       "  'bytes': '3561',\n",
       "  'user_agent': 'python-requests/2.21.0',\n",
       "  'ip': '97.105.19.58'}]"
      ]
     },
     "execution_count": 18,
     "metadata": {},
     "output_type": "execute_result"
    }
   ],
   "source": [
    "rows = [re.search(log_pattern, line).groupdict() for line in lines]\n",
    "rows"
   ]
  },
  {
   "cell_type": "code",
   "execution_count": 19,
   "id": "f86a2c91",
   "metadata": {},
   "outputs": [
    {
     "data": {
      "text/html": [
       "<div>\n",
       "<style scoped>\n",
       "    .dataframe tbody tr th:only-of-type {\n",
       "        vertical-align: middle;\n",
       "    }\n",
       "\n",
       "    .dataframe tbody tr th {\n",
       "        vertical-align: top;\n",
       "    }\n",
       "\n",
       "    .dataframe thead th {\n",
       "        text-align: right;\n",
       "    }\n",
       "</style>\n",
       "<table border=\"1\" class=\"dataframe\">\n",
       "  <thead>\n",
       "    <tr style=\"text-align: right;\">\n",
       "      <th></th>\n",
       "      <th>method</th>\n",
       "      <th>path</th>\n",
       "      <th>timestamp</th>\n",
       "      <th>http_version</th>\n",
       "      <th>status_code</th>\n",
       "      <th>bytes</th>\n",
       "      <th>user_agent</th>\n",
       "      <th>ip</th>\n",
       "    </tr>\n",
       "  </thead>\n",
       "  <tbody>\n",
       "    <tr>\n",
       "      <th>0</th>\n",
       "      <td>GET</td>\n",
       "      <td>/api/v1/sales?page=86</td>\n",
       "      <td>16/Apr/2019:193452+0000</td>\n",
       "      <td>HTTP/1.1</td>\n",
       "      <td>200</td>\n",
       "      <td>510348</td>\n",
       "      <td>python-requests/2.21.0</td>\n",
       "      <td>97.105.19.58</td>\n",
       "    </tr>\n",
       "    <tr>\n",
       "      <th>1</th>\n",
       "      <td>POST</td>\n",
       "      <td>/users_accounts/file-upload</td>\n",
       "      <td>16/Apr/2019:193452+0000</td>\n",
       "      <td>HTTP/1.1</td>\n",
       "      <td>201</td>\n",
       "      <td>42</td>\n",
       "      <td>User-Agent: Mozilla/5.0 (X11; Fedora; Fedora; ...</td>\n",
       "      <td>97.105.19.58</td>\n",
       "    </tr>\n",
       "    <tr>\n",
       "      <th>2</th>\n",
       "      <td>GET</td>\n",
       "      <td>/api/v1/items?page=3</td>\n",
       "      <td>16/Apr/2019:193453+0000</td>\n",
       "      <td>HTTP/1.1</td>\n",
       "      <td>429</td>\n",
       "      <td>3561</td>\n",
       "      <td>python-requests/2.21.0</td>\n",
       "      <td>97.105.19.58</td>\n",
       "    </tr>\n",
       "  </tbody>\n",
       "</table>\n",
       "</div>"
      ],
      "text/plain": [
       "  method                         path                timestamp http_version  \\\n",
       "0    GET        /api/v1/sales?page=86  16/Apr/2019:193452+0000     HTTP/1.1   \n",
       "1   POST  /users_accounts/file-upload  16/Apr/2019:193452+0000     HTTP/1.1   \n",
       "2    GET         /api/v1/items?page=3  16/Apr/2019:193453+0000     HTTP/1.1   \n",
       "\n",
       "  status_code   bytes                                         user_agent  \\\n",
       "0         200  510348                             python-requests/2.21.0   \n",
       "1         201      42  User-Agent: Mozilla/5.0 (X11; Fedora; Fedora; ...   \n",
       "2         429    3561                             python-requests/2.21.0   \n",
       "\n",
       "             ip  \n",
       "0  97.105.19.58  \n",
       "1  97.105.19.58  \n",
       "2  97.105.19.58  "
      ]
     },
     "execution_count": 19,
     "metadata": {},
     "output_type": "execute_result"
    }
   ],
   "source": [
    "df = pd.DataFrame(rows)\n",
    "df"
   ]
  },
  {
   "cell_type": "code",
   "execution_count": 20,
   "id": "a906bdfc",
   "metadata": {},
   "outputs": [
    {
     "data": {
      "text/html": [
       "<div>\n",
       "<style scoped>\n",
       "    .dataframe tbody tr th:only-of-type {\n",
       "        vertical-align: middle;\n",
       "    }\n",
       "\n",
       "    .dataframe tbody tr th {\n",
       "        vertical-align: top;\n",
       "    }\n",
       "\n",
       "    .dataframe thead th {\n",
       "        text-align: right;\n",
       "    }\n",
       "</style>\n",
       "<table border=\"1\" class=\"dataframe\">\n",
       "  <thead>\n",
       "    <tr style=\"text-align: right;\">\n",
       "      <th></th>\n",
       "      <th>method</th>\n",
       "      <th>path</th>\n",
       "      <th>timestamp</th>\n",
       "      <th>http_version</th>\n",
       "      <th>status_code</th>\n",
       "      <th>bytes</th>\n",
       "      <th>user_agent</th>\n",
       "      <th>ip</th>\n",
       "      <th>has_query_string</th>\n",
       "    </tr>\n",
       "  </thead>\n",
       "  <tbody>\n",
       "    <tr>\n",
       "      <th>0</th>\n",
       "      <td>GET</td>\n",
       "      <td>/api/v1/sales?page=86</td>\n",
       "      <td>16/Apr/2019:193452+0000</td>\n",
       "      <td>HTTP/1.1</td>\n",
       "      <td>200</td>\n",
       "      <td>510348</td>\n",
       "      <td>python-requests/2.21.0</td>\n",
       "      <td>97.105.19.58</td>\n",
       "      <td>True</td>\n",
       "    </tr>\n",
       "    <tr>\n",
       "      <th>1</th>\n",
       "      <td>POST</td>\n",
       "      <td>/users_accounts/file-upload</td>\n",
       "      <td>16/Apr/2019:193452+0000</td>\n",
       "      <td>HTTP/1.1</td>\n",
       "      <td>201</td>\n",
       "      <td>42</td>\n",
       "      <td>User-Agent: Mozilla/5.0 (X11; Fedora; Fedora; ...</td>\n",
       "      <td>97.105.19.58</td>\n",
       "      <td>False</td>\n",
       "    </tr>\n",
       "    <tr>\n",
       "      <th>2</th>\n",
       "      <td>GET</td>\n",
       "      <td>/api/v1/items?page=3</td>\n",
       "      <td>16/Apr/2019:193453+0000</td>\n",
       "      <td>HTTP/1.1</td>\n",
       "      <td>429</td>\n",
       "      <td>3561</td>\n",
       "      <td>python-requests/2.21.0</td>\n",
       "      <td>97.105.19.58</td>\n",
       "      <td>True</td>\n",
       "    </tr>\n",
       "  </tbody>\n",
       "</table>\n",
       "</div>"
      ],
      "text/plain": [
       "  method                         path                timestamp http_version  \\\n",
       "0    GET        /api/v1/sales?page=86  16/Apr/2019:193452+0000     HTTP/1.1   \n",
       "1   POST  /users_accounts/file-upload  16/Apr/2019:193452+0000     HTTP/1.1   \n",
       "2    GET         /api/v1/items?page=3  16/Apr/2019:193453+0000     HTTP/1.1   \n",
       "\n",
       "  status_code   bytes                                         user_agent  \\\n",
       "0         200  510348                             python-requests/2.21.0   \n",
       "1         201      42  User-Agent: Mozilla/5.0 (X11; Fedora; Fedora; ...   \n",
       "2         429    3561                             python-requests/2.21.0   \n",
       "\n",
       "             ip  has_query_string  \n",
       "0  97.105.19.58              True  \n",
       "1  97.105.19.58             False  \n",
       "2  97.105.19.58              True  "
      ]
     },
     "execution_count": 20,
     "metadata": {},
     "output_type": "execute_result"
    }
   ],
   "source": [
    "# let's make a column that is a boolean whether or not the path contained a query string\n",
    "# simple answer on one string: look for a question mark character\n",
    "def is_query_string(string):\n",
    "    return \"?\" in string\n",
    "# df[\"has_query_string\"] = df[\"path\"].apply(lambda string: \"?\" in string)\n",
    "df[\"has_query_string\"] = df[\"path\"].apply(is_query_string)\n",
    "df"
   ]
  },
  {
   "cell_type": "code",
   "execution_count": null,
   "id": "aa10097f",
   "metadata": {},
   "outputs": [],
   "source": []
  }
 ],
 "metadata": {
  "kernelspec": {
   "display_name": "Python 3 (ipykernel)",
   "language": "python",
   "name": "python3"
  },
  "language_info": {
   "codemirror_mode": {
    "name": "ipython",
    "version": 3
   },
   "file_extension": ".py",
   "mimetype": "text/x-python",
   "name": "python",
   "nbconvert_exporter": "python",
   "pygments_lexer": "ipython3",
   "version": "3.9.7"
  }
 },
 "nbformat": 4,
 "nbformat_minor": 5
}

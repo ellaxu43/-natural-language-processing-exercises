{
 "cells": [
  {
   "cell_type": "code",
   "execution_count": 1,
   "id": "8c02ed62",
   "metadata": {},
   "outputs": [],
   "source": [
    "\n",
    "from requests import get\n",
    "from bs4 import BeautifulSoup\n",
    "import pandas as pd"
   ]
  },
  {
   "cell_type": "code",
   "execution_count": 2,
   "id": "5479aca7",
   "metadata": {},
   "outputs": [
    {
     "data": {
      "text/plain": [
       "<Response [200]>"
      ]
     },
     "execution_count": 2,
     "metadata": {},
     "output_type": "execute_result"
    }
   ],
   "source": [
    "url = 'https://web-scraping-demo.zgulde.net/news'\n",
    "response = get(url)\n",
    "response"
   ]
  },
  {
   "cell_type": "code",
   "execution_count": 3,
   "id": "6957d9b3",
   "metadata": {},
   "outputs": [
    {
     "name": "stdout",
     "output_type": "stream",
     "text": [
      "<!DOCTYPE html>\n",
      "<html lang=\"en\">\n",
      "<head>\n",
      "    <meta charset=\"UTF-8\">\n",
      "    <meta http-equiv=\"X-UA-Compatible\" content=\"IE=edge\">\n",
      "    <meta name=\"viewport\" content=\"width=device-width, initial-scale=1.0\">\n",
      "    <title>News Example Page</title>\n",
      "    <link href=\"https://unpkg.com/tailwindcss@^2/dist/tailwind.min.css\" rel=\"stylesheet\" />\n",
      "    <link rel=\"stylesheet\" href=\"https://cdn.jsdelivr.net/npm/bootstrap\n"
     ]
    }
   ],
   "source": [
    "print(response.text[:400])"
   ]
  },
  {
   "cell_type": "code",
   "execution_count": 4,
   "id": "5c1b4791",
   "metadata": {},
   "outputs": [],
   "source": [
    "# Make a soup variable holding the response content\n",
    "soup = BeautifulSoup(response.text, 'html.parser')\n"
   ]
  },
  {
   "cell_type": "code",
   "execution_count": 5,
   "id": "8b1c0f5c",
   "metadata": {},
   "outputs": [],
   "source": [
    "articles = soup.select('div.grid.grid-cols-4')"
   ]
  },
  {
   "cell_type": "code",
   "execution_count": 6,
   "id": "41cb8c6c",
   "metadata": {},
   "outputs": [
    {
     "data": {
      "text/plain": [
       "<div class=\"grid grid-cols-4 gap-x-4 border rounded pr-3 bg-green-50 hover:shadow-lg transition duration-500\">\n",
       "<img src=\"/static/placeholder.png\"/>\n",
       "<div class=\"col-span-3 space-y-3 py-3\">\n",
       "<h2 class=\"text-2xl text-green-900\">decision act rise</h2>\n",
       "<div class=\"grid grid-cols-2 italic\">\n",
       "<p> 1984-05-23 </p>\n",
       "<p class=\"text-right\">By Hannah Hawkins </p>\n",
       "</div>\n",
       "<p>Election century deal coach. Moment land station improve create feeling. Tv wait here walk walk minute. State lose result reason almost staff.\n",
       "Allow garden various letter scene high.</p>\n",
       "</div>\n",
       "</div>"
      ]
     },
     "execution_count": 6,
     "metadata": {},
     "output_type": "execute_result"
    }
   ],
   "source": [
    "article = articles[0]\n",
    "article"
   ]
  },
  {
   "cell_type": "code",
   "execution_count": 7,
   "id": "35e0bff7",
   "metadata": {},
   "outputs": [],
   "source": [
    "def parse_news_article(article):\n",
    "    output = {}\n",
    "    output['headline'] = article.find('h2').text\n",
    "    output['date'], output['byline'], output['description'] = [p.text for p in article.find_all('p')]\n",
    "    return output"
   ]
  },
  {
   "cell_type": "code",
   "execution_count": 8,
   "id": "4100d103",
   "metadata": {},
   "outputs": [
    {
     "data": {
      "text/html": [
       "<div>\n",
       "<style scoped>\n",
       "    .dataframe tbody tr th:only-of-type {\n",
       "        vertical-align: middle;\n",
       "    }\n",
       "\n",
       "    .dataframe tbody tr th {\n",
       "        vertical-align: top;\n",
       "    }\n",
       "\n",
       "    .dataframe thead th {\n",
       "        text-align: right;\n",
       "    }\n",
       "</style>\n",
       "<table border=\"1\" class=\"dataframe\">\n",
       "  <thead>\n",
       "    <tr style=\"text-align: right;\">\n",
       "      <th></th>\n",
       "      <th>headline</th>\n",
       "      <th>date</th>\n",
       "      <th>byline</th>\n",
       "      <th>description</th>\n",
       "    </tr>\n",
       "  </thead>\n",
       "  <tbody>\n",
       "    <tr>\n",
       "      <th>0</th>\n",
       "      <td>decision act rise</td>\n",
       "      <td>1984-05-23</td>\n",
       "      <td>By Hannah Hawkins</td>\n",
       "      <td>Election century deal coach. Moment land stati...</td>\n",
       "    </tr>\n",
       "    <tr>\n",
       "      <th>1</th>\n",
       "      <td>war size item</td>\n",
       "      <td>2019-01-01</td>\n",
       "      <td>By Dana Kirk</td>\n",
       "      <td>Service probably simply join kind prepare reve...</td>\n",
       "    </tr>\n",
       "    <tr>\n",
       "      <th>2</th>\n",
       "      <td>ball sister order</td>\n",
       "      <td>1970-02-26</td>\n",
       "      <td>By Mary Lopez</td>\n",
       "      <td>Upon result water such collection. Often eat n...</td>\n",
       "    </tr>\n",
       "    <tr>\n",
       "      <th>3</th>\n",
       "      <td>wall third window</td>\n",
       "      <td>1970-02-28</td>\n",
       "      <td>By Hannah Burton</td>\n",
       "      <td>Bag or sport choice defense for. Participant a...</td>\n",
       "    </tr>\n",
       "    <tr>\n",
       "      <th>4</th>\n",
       "      <td>nation network meet</td>\n",
       "      <td>2018-11-10</td>\n",
       "      <td>By Kenneth Rasmussen</td>\n",
       "      <td>Bag crime him garden well. Stand explain serve...</td>\n",
       "    </tr>\n",
       "    <tr>\n",
       "      <th>5</th>\n",
       "      <td>tough value much</td>\n",
       "      <td>2014-01-31</td>\n",
       "      <td>By Sabrina Nunez</td>\n",
       "      <td>Quite others young letter. Natural will argue ...</td>\n",
       "    </tr>\n",
       "    <tr>\n",
       "      <th>6</th>\n",
       "      <td>participant return type</td>\n",
       "      <td>2003-11-14</td>\n",
       "      <td>By Patricia Soto</td>\n",
       "      <td>High under letter simple remain fly. Recognize...</td>\n",
       "    </tr>\n",
       "    <tr>\n",
       "      <th>7</th>\n",
       "      <td>my thus another</td>\n",
       "      <td>1984-03-29</td>\n",
       "      <td>By Blake Freeman</td>\n",
       "      <td>Plant red war per impact cold fill. Many sport...</td>\n",
       "    </tr>\n",
       "    <tr>\n",
       "      <th>8</th>\n",
       "      <td>according change religious</td>\n",
       "      <td>1997-12-10</td>\n",
       "      <td>By Deborah Smith</td>\n",
       "      <td>Pay technology cut test. Show artist four sea ...</td>\n",
       "    </tr>\n",
       "    <tr>\n",
       "      <th>9</th>\n",
       "      <td>purpose culture scientist</td>\n",
       "      <td>2002-11-11</td>\n",
       "      <td>By Stephanie Calderon</td>\n",
       "      <td>Course movement medical he firm people threat....</td>\n",
       "    </tr>\n",
       "    <tr>\n",
       "      <th>10</th>\n",
       "      <td>pretty catch throughout</td>\n",
       "      <td>1987-11-18</td>\n",
       "      <td>By Allison Shaw</td>\n",
       "      <td>Safe manager leader let outside between own. G...</td>\n",
       "    </tr>\n",
       "    <tr>\n",
       "      <th>11</th>\n",
       "      <td>eight town black</td>\n",
       "      <td>1981-07-08</td>\n",
       "      <td>By Nicole Phillips</td>\n",
       "      <td>Half probably run say. Poor learn nation race....</td>\n",
       "    </tr>\n",
       "  </tbody>\n",
       "</table>\n",
       "</div>"
      ],
      "text/plain": [
       "                      headline          date                  byline  \\\n",
       "0            decision act rise   1984-05-23       By Hannah Hawkins    \n",
       "1                war size item   2019-01-01            By Dana Kirk    \n",
       "2            ball sister order   1970-02-26           By Mary Lopez    \n",
       "3            wall third window   1970-02-28        By Hannah Burton    \n",
       "4          nation network meet   2018-11-10    By Kenneth Rasmussen    \n",
       "5             tough value much   2014-01-31        By Sabrina Nunez    \n",
       "6      participant return type   2003-11-14        By Patricia Soto    \n",
       "7              my thus another   1984-03-29        By Blake Freeman    \n",
       "8   according change religious   1997-12-10        By Deborah Smith    \n",
       "9    purpose culture scientist   2002-11-11   By Stephanie Calderon    \n",
       "10     pretty catch throughout   1987-11-18         By Allison Shaw    \n",
       "11            eight town black   1981-07-08      By Nicole Phillips    \n",
       "\n",
       "                                          description  \n",
       "0   Election century deal coach. Moment land stati...  \n",
       "1   Service probably simply join kind prepare reve...  \n",
       "2   Upon result water such collection. Often eat n...  \n",
       "3   Bag or sport choice defense for. Participant a...  \n",
       "4   Bag crime him garden well. Stand explain serve...  \n",
       "5   Quite others young letter. Natural will argue ...  \n",
       "6   High under letter simple remain fly. Recognize...  \n",
       "7   Plant red war per impact cold fill. Many sport...  \n",
       "8   Pay technology cut test. Show artist four sea ...  \n",
       "9   Course movement medical he firm people threat....  \n",
       "10  Safe manager leader let outside between own. G...  \n",
       "11  Half probably run say. Poor learn nation race....  "
      ]
     },
     "execution_count": 8,
     "metadata": {},
     "output_type": "execute_result"
    }
   ],
   "source": [
    "pd.DataFrame([parse_news_article(article) for article in articles])"
   ]
  },
  {
   "cell_type": "markdown",
   "id": "6ef33bd4",
   "metadata": {},
   "source": [
    "## Codeup Blog Articles\n",
    "\n",
    "Visit Codeup's Blog and record the urls for at least 5 distinct blog posts. For each post, you should scrape at least the post's title and content.\n",
    "\n",
    "Encapsulate your work in a function named get_blog_articles that will return a list of dictionaries, with each dictionary representing one article. The shape of each dictionary should look like this:\n",
    "\n",
    "\n",
    "{\n",
    "    'title': 'the title of the article',\n",
    "    'content': 'the full text content of the article'\n",
    "}\n",
    "Plus any additional properties you think might be helpful."
   ]
  },
  {
   "cell_type": "code",
   "execution_count": 9,
   "id": "26be0c90",
   "metadata": {},
   "outputs": [],
   "source": [
    "import requests\n",
    "from bs4 import BeautifulSoup\n",
    "import pandas as pd\n",
    "from time import strftime"
   ]
  },
  {
   "cell_type": "code",
   "execution_count": 10,
   "id": "c01374a6",
   "metadata": {},
   "outputs": [],
   "source": [
    "\n",
    "response = requests.get(\"https://codeup.com/blog/\", headers={\"user-agent\": \"Codeup DS\"})\n",
    "soup = BeautifulSoup(response.text)\n"
   ]
  },
  {
   "cell_type": "code",
   "execution_count": 11,
   "id": "6afbe90a",
   "metadata": {},
   "outputs": [
    {
     "data": {
      "text/plain": [
       "[<a class=\"more-link\" href=\"https://codeup.com/workshops/virtual/learn-to-code-python-workshop-on-4-16/\">read more</a>,\n",
       " <a class=\"more-link\" href=\"https://codeup.com/codeup-news/coming-soon-cloud-administration/\">read more</a>,\n",
       " <a class=\"more-link\" href=\"https://codeup.com/featured/5-books-every-woman-in-tech-should-read/\">read more</a>,\n",
       " <a class=\"more-link\" href=\"https://codeup.com/codeup-news/codeup-start-dates-for-march-2022/\">read more</a>,\n",
       " <a class=\"more-link\" href=\"https://codeup.com/codeup-news/vet-tec-funding-dallas/\">read more</a>,\n",
       " <a class=\"more-link\" href=\"https://codeup.com/codeup-news/dallas-campus-re-opens-with-new-grant-partner/\">read more</a>,\n",
       " <a class=\"more-link\" href=\"https://codeup.com/codeup-news/codeups-placement-team-continues-setting-records/\">read more</a>,\n",
       " <a class=\"more-link\" href=\"https://codeup.com/it-training/it-certifications-101/\">read more</a>,\n",
       " <a class=\"more-link\" href=\"https://codeup.com/cybersecurity/a-rise-in-cyber-attacks-means-opportunities-for-veterans-in-san-antonio/\">read more</a>,\n",
       " <a class=\"more-link\" href=\"https://codeup.com/codeup-news/use-your-gi-bill-benefits-to-land-a-job-in-tech/\">read more</a>,\n",
       " <a class=\"more-link\" href=\"https://codeup.com/tips-for-prospective-students/which-program-is-right-for-me-cyber-security-or-systems-engineering/\">read more</a>,\n",
       " <a class=\"more-link\" href=\"https://codeup.com/it-training/what-the-heck-is-system-engineering/\">read more</a>,\n",
       " <a class=\"more-link\" href=\"https://codeup.com/alumni-stories/from-speech-pathology-to-business-intelligence/\">read more</a>,\n",
       " <a class=\"more-link\" href=\"https://codeup.com/behind-the-billboards/boris-behind-the-billboards/\">read more</a>,\n",
       " <a class=\"more-link\" href=\"https://codeup.com/codeup-news/is-codeup-the-best-bootcamp-in-san-antonio-or-the-world/\">read more</a>]"
      ]
     },
     "execution_count": 11,
     "metadata": {},
     "output_type": "execute_result"
    }
   ],
   "source": [
    "soup.select('.more-link')"
   ]
  },
  {
   "cell_type": "code",
   "execution_count": 12,
   "id": "d2d5b219",
   "metadata": {},
   "outputs": [
    {
     "data": {
      "text/plain": [
       "['https://codeup.com/workshops/virtual/learn-to-code-python-workshop-on-4-16/',\n",
       " 'https://codeup.com/codeup-news/coming-soon-cloud-administration/',\n",
       " 'https://codeup.com/featured/5-books-every-woman-in-tech-should-read/',\n",
       " 'https://codeup.com/codeup-news/codeup-start-dates-for-march-2022/',\n",
       " 'https://codeup.com/codeup-news/vet-tec-funding-dallas/',\n",
       " 'https://codeup.com/codeup-news/dallas-campus-re-opens-with-new-grant-partner/',\n",
       " 'https://codeup.com/codeup-news/codeups-placement-team-continues-setting-records/',\n",
       " 'https://codeup.com/it-training/it-certifications-101/',\n",
       " 'https://codeup.com/cybersecurity/a-rise-in-cyber-attacks-means-opportunities-for-veterans-in-san-antonio/',\n",
       " 'https://codeup.com/codeup-news/use-your-gi-bill-benefits-to-land-a-job-in-tech/',\n",
       " 'https://codeup.com/tips-for-prospective-students/which-program-is-right-for-me-cyber-security-or-systems-engineering/',\n",
       " 'https://codeup.com/it-training/what-the-heck-is-system-engineering/',\n",
       " 'https://codeup.com/alumni-stories/from-speech-pathology-to-business-intelligence/',\n",
       " 'https://codeup.com/behind-the-billboards/boris-behind-the-billboards/',\n",
       " 'https://codeup.com/codeup-news/is-codeup-the-best-bootcamp-in-san-antonio-or-the-world/']"
      ]
     },
     "execution_count": 12,
     "metadata": {},
     "output_type": "execute_result"
    }
   ],
   "source": [
    "links = [link['href'] for link in soup.select('.more-link')]\n",
    "links"
   ]
  },
  {
   "cell_type": "code",
   "execution_count": 14,
   "id": "9ae4bb0e",
   "metadata": {},
   "outputs": [],
   "source": [
    "\n",
    "url = 'https://codeup.com/codeup-news/dallas-campus-re-opens-with-new-grant-partner/'\n",
    "response = requests.get(url, headers={\"user-agent\": \"Codeup DS\"})\n",
    "soup = BeautifulSoup(response.text)"
   ]
  },
  {
   "cell_type": "code",
   "execution_count": 15,
   "id": "d6fb98a2",
   "metadata": {},
   "outputs": [
    {
     "data": {
      "text/plain": [
       "'We are happy to announce that our Dallas campus re-opened!\\xa0Better yet, we have a new grant partner that can fund up to $15,000 in tuition for eligible students. Are you a DFW resident who:\\n\\nIs unemployed or under-employed\\nwork has been affected by COVID-19\\na military veteran\\nunder the age of 25\\n\\nIf so, follow the steps below to seek up to $15,000 in tuition funding!\\n\\nRegister for an account at www.workintexas.com – click “Sign in” and then select Option 3: Create a User Account\\nFind the nearest Workforce Center to your residence using this tool\\nAttend a WIOA information session – these sessions occur at different times at different locations. Contact your local center for more information after registering at Work in Texas\\nSelect Codeup as the program for training, and notify tuition@codeup.com of your progress\\n\\nOur next Web Development class starts January 31st, 2022, and will be the first class in-person in two years! Hands-on experience and learning side-by-side with your fellow classmates is an experience hard to duplicate virtually. COVID-19 protocols are in place to keep all students and staff safe while attending the campus in person. Are you ready to start a new career in the New Year!? Seats are limited, so apply now here or email admissions@codeup.com for more info!'"
      ]
     },
     "execution_count": 15,
     "metadata": {},
     "output_type": "execute_result"
    }
   ],
   "source": [
    "# content\n",
    "soup.select_one('.entry-content').text.strip()"
   ]
  },
  {
   "cell_type": "code",
   "execution_count": 16,
   "id": "7284bca8",
   "metadata": {},
   "outputs": [
    {
     "data": {
      "text/plain": [
       "'Dallas Campus Re-opens With New Grant Partner'"
      ]
     },
     "execution_count": 16,
     "metadata": {},
     "output_type": "execute_result"
    }
   ],
   "source": [
    "#title\n",
    "title = soup.select_one('.entry-title').text\n",
    "title"
   ]
  },
  {
   "cell_type": "code",
   "execution_count": 17,
   "id": "3b7b198c",
   "metadata": {},
   "outputs": [
    {
     "data": {
      "text/plain": [
       "'Dec 30, 2021'"
      ]
     },
     "execution_count": 17,
     "metadata": {},
     "output_type": "execute_result"
    }
   ],
   "source": [
    "# published date\n",
    "published = soup.select_one('.published').text\n",
    "published"
   ]
  },
  {
   "cell_type": "code",
   "execution_count": 18,
   "id": "dfc9c364",
   "metadata": {},
   "outputs": [],
   "source": [
    "def get_front_page_links():\n",
    "    \"\"\"\n",
    "    Short function to hit the codeup blog landing page and return a list of all the urls to further blog posts on the\n",
    "    page.\n",
    "    \"\"\"\n",
    "    response = requests.get(\"https://codeup.com/blog/\", headers={\"user-agent\": \"Codeup DS\"})\n",
    "    soup = BeautifulSoup(response.text)\n",
    "    links = [link.attrs[\"href\"] for link in soup.select(\".more-link\")]\n",
    "\n",
    "    return links\n",
    "\n",
    "def parse_codeup_blog_article(url):\n",
    "    \"Given a blog article url, extract the relevant information and return it as a dictionary.\"\n",
    "    response = requests.get(url, headers={\"user-agent\": \"Codeup DS\"})\n",
    "    soup = BeautifulSoup(response.text)\n",
    "    return {\n",
    "        \"title\": soup.select_one(\".entry-title\").text,\n",
    "        \"published\": soup.select_one(\".published\").text,\n",
    "        \"content\": soup.select_one(\".entry-content\").text.strip(),\n",
    "    }\n",
    "\n",
    "\n",
    "def get_blog_articles():\n",
    "    \"Returns a dataframe where each row is a blog post from the codeup blog landing page.\"\n",
    "    links = get_front_page_links()\n",
    "    df = pd.DataFrame([parse_codeup_blog_article(link) for link in links])\n",
    "    return df"
   ]
  },
  {
   "cell_type": "code",
   "execution_count": 19,
   "id": "9c48fc70",
   "metadata": {},
   "outputs": [
    {
     "data": {
      "text/html": [
       "<div>\n",
       "<style scoped>\n",
       "    .dataframe tbody tr th:only-of-type {\n",
       "        vertical-align: middle;\n",
       "    }\n",
       "\n",
       "    .dataframe tbody tr th {\n",
       "        vertical-align: top;\n",
       "    }\n",
       "\n",
       "    .dataframe thead th {\n",
       "        text-align: right;\n",
       "    }\n",
       "</style>\n",
       "<table border=\"1\" class=\"dataframe\">\n",
       "  <thead>\n",
       "    <tr style=\"text-align: right;\">\n",
       "      <th></th>\n",
       "      <th>title</th>\n",
       "      <th>published</th>\n",
       "      <th>content</th>\n",
       "    </tr>\n",
       "  </thead>\n",
       "  <tbody>\n",
       "    <tr>\n",
       "      <th>0</th>\n",
       "      <td>Learn to Code: Python Workshop on 4/23</td>\n",
       "      <td>Mar 31, 2022</td>\n",
       "      <td>According to LinkedIn, the “#1 Most Promising ...</td>\n",
       "    </tr>\n",
       "    <tr>\n",
       "      <th>1</th>\n",
       "      <td>Coming Soon: Cloud Administration</td>\n",
       "      <td>Mar 17, 2022</td>\n",
       "      <td>We’re launching a new program out of San Anton...</td>\n",
       "    </tr>\n",
       "    <tr>\n",
       "      <th>2</th>\n",
       "      <td>5 Books Every Woman In Tech Should Read</td>\n",
       "      <td>Mar 8, 2022</td>\n",
       "      <td>On this International Women’s Day 2022 we want...</td>\n",
       "    </tr>\n",
       "    <tr>\n",
       "      <th>3</th>\n",
       "      <td>Codeup Start Dates for March 2022</td>\n",
       "      <td>Jan 26, 2022</td>\n",
       "      <td>As we approach the end of January we wanted to...</td>\n",
       "    </tr>\n",
       "    <tr>\n",
       "      <th>4</th>\n",
       "      <td>VET TEC Funding Now Available For Dallas Veterans</td>\n",
       "      <td>Jan 7, 2022</td>\n",
       "      <td>We are so happy to announce that VET TEC benef...</td>\n",
       "    </tr>\n",
       "    <tr>\n",
       "      <th>5</th>\n",
       "      <td>Dallas Campus Re-opens With New Grant Partner</td>\n",
       "      <td>Dec 30, 2021</td>\n",
       "      <td>We are happy to announce that our Dallas campu...</td>\n",
       "    </tr>\n",
       "    <tr>\n",
       "      <th>6</th>\n",
       "      <td>Codeup’s Placement Team Continues Setting Records</td>\n",
       "      <td>Nov 19, 2021</td>\n",
       "      <td>Our Placement Team is simply defined as a grou...</td>\n",
       "    </tr>\n",
       "    <tr>\n",
       "      <th>7</th>\n",
       "      <td>IT Certifications 101: Why They Matter, and Wh...</td>\n",
       "      <td>Nov 18, 2021</td>\n",
       "      <td>AWS, Google, Azure, Red Hat, CompTIA…these are...</td>\n",
       "    </tr>\n",
       "    <tr>\n",
       "      <th>8</th>\n",
       "      <td>A rise in cyber attacks means opportunities fo...</td>\n",
       "      <td>Nov 17, 2021</td>\n",
       "      <td>In the last few months, the US has experienced...</td>\n",
       "    </tr>\n",
       "    <tr>\n",
       "      <th>9</th>\n",
       "      <td>Use your GI Bill® benefits to Land a Job in Tech</td>\n",
       "      <td>Nov 4, 2021</td>\n",
       "      <td>As the end of military service gets closer, ma...</td>\n",
       "    </tr>\n",
       "    <tr>\n",
       "      <th>10</th>\n",
       "      <td>Which program is right for me: Cyber Security ...</td>\n",
       "      <td>Oct 28, 2021</td>\n",
       "      <td>What IT Career should I choose?\\nIf you’re thi...</td>\n",
       "    </tr>\n",
       "    <tr>\n",
       "      <th>11</th>\n",
       "      <td>What the Heck is System Engineering?</td>\n",
       "      <td>Oct 21, 2021</td>\n",
       "      <td>Codeup offers a 13-week training program: Syst...</td>\n",
       "    </tr>\n",
       "    <tr>\n",
       "      <th>12</th>\n",
       "      <td>From Speech Pathology to Business Intelligence</td>\n",
       "      <td>Oct 18, 2021</td>\n",
       "      <td>By: Alicia Gonzalez\\nBefore Codeup, I was a ho...</td>\n",
       "    </tr>\n",
       "    <tr>\n",
       "      <th>13</th>\n",
       "      <td>Boris – Behind the Billboards</td>\n",
       "      <td>Oct 3, 2021</td>\n",
       "      <td></td>\n",
       "    </tr>\n",
       "    <tr>\n",
       "      <th>14</th>\n",
       "      <td>Is Codeup the Best Bootcamp in San Antonio…or ...</td>\n",
       "      <td>Sep 16, 2021</td>\n",
       "      <td>Looking for the best data science bootcamp in ...</td>\n",
       "    </tr>\n",
       "  </tbody>\n",
       "</table>\n",
       "</div>"
      ],
      "text/plain": [
       "                                                title     published  \\\n",
       "0              Learn to Code: Python Workshop on 4/23  Mar 31, 2022   \n",
       "1                   Coming Soon: Cloud Administration  Mar 17, 2022   \n",
       "2             5 Books Every Woman In Tech Should Read   Mar 8, 2022   \n",
       "3                   Codeup Start Dates for March 2022  Jan 26, 2022   \n",
       "4   VET TEC Funding Now Available For Dallas Veterans   Jan 7, 2022   \n",
       "5       Dallas Campus Re-opens With New Grant Partner  Dec 30, 2021   \n",
       "6   Codeup’s Placement Team Continues Setting Records  Nov 19, 2021   \n",
       "7   IT Certifications 101: Why They Matter, and Wh...  Nov 18, 2021   \n",
       "8   A rise in cyber attacks means opportunities fo...  Nov 17, 2021   \n",
       "9    Use your GI Bill® benefits to Land a Job in Tech   Nov 4, 2021   \n",
       "10  Which program is right for me: Cyber Security ...  Oct 28, 2021   \n",
       "11               What the Heck is System Engineering?  Oct 21, 2021   \n",
       "12     From Speech Pathology to Business Intelligence  Oct 18, 2021   \n",
       "13                      Boris – Behind the Billboards   Oct 3, 2021   \n",
       "14  Is Codeup the Best Bootcamp in San Antonio…or ...  Sep 16, 2021   \n",
       "\n",
       "                                              content  \n",
       "0   According to LinkedIn, the “#1 Most Promising ...  \n",
       "1   We’re launching a new program out of San Anton...  \n",
       "2   On this International Women’s Day 2022 we want...  \n",
       "3   As we approach the end of January we wanted to...  \n",
       "4   We are so happy to announce that VET TEC benef...  \n",
       "5   We are happy to announce that our Dallas campu...  \n",
       "6   Our Placement Team is simply defined as a grou...  \n",
       "7   AWS, Google, Azure, Red Hat, CompTIA…these are...  \n",
       "8   In the last few months, the US has experienced...  \n",
       "9   As the end of military service gets closer, ma...  \n",
       "10  What IT Career should I choose?\\nIf you’re thi...  \n",
       "11  Codeup offers a 13-week training program: Syst...  \n",
       "12  By: Alicia Gonzalez\\nBefore Codeup, I was a ho...  \n",
       "13                                                     \n",
       "14  Looking for the best data science bootcamp in ...  "
      ]
     },
     "execution_count": 19,
     "metadata": {},
     "output_type": "execute_result"
    }
   ],
   "source": [
    "get_blog_articles()"
   ]
  },
  {
   "cell_type": "markdown",
   "id": "62326874",
   "metadata": {},
   "source": [
    "## News Articles\n",
    "\n",
    "We will now be scraping text data from inshorts, a website that provides a brief overview of many different topics.\n",
    "\n",
    "Write a function that scrapes the news articles for the following topics:\n",
    "\n",
    "Business\n",
    "Sports\n",
    "Technology\n",
    "Entertainment\n",
    "The end product of this should be a function named get_news_articles that returns a list of dictionaries, where each dictionary has this shape:"
   ]
  },
  {
   "cell_type": "code",
   "execution_count": 20,
   "id": "e348cda2",
   "metadata": {},
   "outputs": [],
   "source": [
    "url = 'https://www.inshorts.com/en/read/business'\n",
    "response = requests.get(url, headers={'user-agent': 'Codeup DS'})\n",
    "soup = BeautifulSoup(response.text)"
   ]
  },
  {
   "cell_type": "code",
   "execution_count": 21,
   "id": "67a0f751",
   "metadata": {},
   "outputs": [
    {
     "data": {
      "text/plain": [
       "25"
      ]
     },
     "execution_count": 21,
     "metadata": {},
     "output_type": "execute_result"
    }
   ],
   "source": [
    "# identify class to select all the news cards\n",
    "cards = soup.select('.news-card')\n",
    "len(cards)"
   ]
  },
  {
   "cell_type": "code",
   "execution_count": 22,
   "id": "76ba7d27",
   "metadata": {},
   "outputs": [],
   "source": [
    "card = cards[0]\n",
    "# card"
   ]
  },
  {
   "cell_type": "code",
   "execution_count": 23,
   "id": "3b3f1c3b",
   "metadata": {},
   "outputs": [
    {
     "data": {
      "text/plain": [
       "'Reliance Industries becomes 1st Indian firm to hit $100 billion revenue in a year'"
      ]
     },
     "execution_count": 23,
     "metadata": {},
     "output_type": "execute_result"
    }
   ],
   "source": [
    "# headline\n",
    "headline = card.find('span', itemprop = 'headline').text\n",
    "headline"
   ]
  },
  {
   "cell_type": "code",
   "execution_count": 24,
   "id": "6fbc2045",
   "metadata": {},
   "outputs": [
    {
     "data": {
      "text/plain": [
       "'Hiral Goyal'"
      ]
     },
     "execution_count": 24,
     "metadata": {},
     "output_type": "execute_result"
    }
   ],
   "source": [
    "# author\n",
    "card.find('span', class_ = 'author').text"
   ]
  },
  {
   "cell_type": "code",
   "execution_count": 25,
   "id": "9530f864",
   "metadata": {},
   "outputs": [
    {
     "data": {
      "text/plain": [
       "'Reliance Industries on Friday reported a net profit of ₹60,705 crore on a gross revenue of ₹7.92 lakh crore ($102 billion) for the full fiscal 2021-22, making it the first Indian company to hit $100-billion revenue mark. \"Despite the ongoing challenges of the pandemic and heightened geo-political uncertainties, Reliance has delivered a robust performance,\" its Chairman Mukesh Ambani said.'"
      ]
     },
     "execution_count": 25,
     "metadata": {},
     "output_type": "execute_result"
    }
   ],
   "source": [
    "# content\n",
    "card.find('div', itemprop = 'articleBody').text"
   ]
  },
  {
   "cell_type": "code",
   "execution_count": 26,
   "id": "c5612453",
   "metadata": {},
   "outputs": [
    {
     "data": {
      "text/plain": [
       "'06 May 2022,Friday'"
      ]
     },
     "execution_count": 26,
     "metadata": {},
     "output_type": "execute_result"
    }
   ],
   "source": [
    "#date\n",
    "card.find('span', clas ='date').text"
   ]
  },
  {
   "cell_type": "code",
   "execution_count": 27,
   "id": "035fc5a3",
   "metadata": {},
   "outputs": [],
   "source": [
    "def parse_news_card(card):\n",
    "    'Given a news card object, returns a dictionary of the relevant information.'\n",
    "    card_title = card.select_one('.news-card-title')\n",
    "    output = {}\n",
    "    output['title'] = card.find('span', itemprop = 'headline').text\n",
    "    output['author'] = card.find('span', class_ = 'author').text\n",
    "    output['content'] = card.find('div', itemprop = 'articleBody').text\n",
    "    output['date'] = card.find('span', clas ='date').text\n",
    "    return output\n",
    "def parse_inshorts_page(url):\n",
    "    '''Given a url, returns a dataframe where each row is a news article from the url.\n",
    "    Infers the category from the last section of the url.'''\n",
    "    category = url.split('/')[-1]\n",
    "    response = requests.get(url, headers={'user-agent': 'Codeup DS'})\n",
    "    soup = BeautifulSoup(response.text)\n",
    "    cards = soup.select('.news-card')\n",
    "    df = pd.DataFrame([parse_news_card(card) for card in cards])\n",
    "    df['category'] = category\n",
    "    return df\n",
    "\n",
    "def get_inshorts_articles():\n",
    "    '''\n",
    "    Returns a dataframe of news articles from the business, sports, technology, and entertainment sections of\n",
    "    inshorts.\n",
    "    '''\n",
    "    url = 'https://inshorts.com/en/read/'\n",
    "    categories = ['business', 'sports', 'technology', 'entertainment']\n",
    "    df = pd.DataFrame()\n",
    "    for cat in categories:\n",
    "        df = pd.concat([df, pd.DataFrame(parse_inshorts_page(url + cat))])\n",
    "    df = df.reset_index(drop=True)\n",
    "    return df"
   ]
  },
  {
   "cell_type": "code",
   "execution_count": 28,
   "id": "4b4a4a85",
   "metadata": {},
   "outputs": [
    {
     "data": {
      "text/html": [
       "<div>\n",
       "<style scoped>\n",
       "    .dataframe tbody tr th:only-of-type {\n",
       "        vertical-align: middle;\n",
       "    }\n",
       "\n",
       "    .dataframe tbody tr th {\n",
       "        vertical-align: top;\n",
       "    }\n",
       "\n",
       "    .dataframe thead th {\n",
       "        text-align: right;\n",
       "    }\n",
       "</style>\n",
       "<table border=\"1\" class=\"dataframe\">\n",
       "  <thead>\n",
       "    <tr style=\"text-align: right;\">\n",
       "      <th></th>\n",
       "      <th>title</th>\n",
       "      <th>author</th>\n",
       "      <th>content</th>\n",
       "      <th>date</th>\n",
       "      <th>category</th>\n",
       "    </tr>\n",
       "  </thead>\n",
       "  <tbody>\n",
       "    <tr>\n",
       "      <th>0</th>\n",
       "      <td>Reliance Industries becomes 1st Indian firm to...</td>\n",
       "      <td>Hiral Goyal</td>\n",
       "      <td>Reliance Industries on Friday reported a net p...</td>\n",
       "      <td>06 May 2022,Friday</td>\n",
       "      <td>business</td>\n",
       "    </tr>\n",
       "    <tr>\n",
       "      <th>1</th>\n",
       "      <td>India's COVID-19 death numbers quite a bit low...</td>\n",
       "      <td>Sakshita Khosla</td>\n",
       "      <td>India's COVID-19 death numbers are \"quite a bi...</td>\n",
       "      <td>06 May 2022,Friday</td>\n",
       "      <td>business</td>\n",
       "    </tr>\n",
       "    <tr>\n",
       "      <th>2</th>\n",
       "      <td>L&amp;T lnfotech CEO quits citing personal reasons...</td>\n",
       "      <td>Hiral Goyal</td>\n",
       "      <td>Larsen &amp; Toubro lnfotech on Friday said that i...</td>\n",
       "      <td>06 May 2022,Friday</td>\n",
       "      <td>business</td>\n",
       "    </tr>\n",
       "    <tr>\n",
       "      <th>3</th>\n",
       "      <td>Musk, Twitter sued by Florida pension fund to ...</td>\n",
       "      <td>Aishwarya Awasthi</td>\n",
       "      <td>Elon Musk and Twitter were sued by a Florida p...</td>\n",
       "      <td>07 May 2022,Saturday</td>\n",
       "      <td>business</td>\n",
       "    </tr>\n",
       "    <tr>\n",
       "      <th>4</th>\n",
       "      <td>Bled through my pants, couldn't get a tampon d...</td>\n",
       "      <td>Ridham Gambhir</td>\n",
       "      <td>A former employee at TikTok claimed that she b...</td>\n",
       "      <td>07 May 2022,Saturday</td>\n",
       "      <td>business</td>\n",
       "    </tr>\n",
       "    <tr>\n",
       "      <th>...</th>\n",
       "      <td>...</td>\n",
       "      <td>...</td>\n",
       "      <td>...</td>\n",
       "      <td>...</td>\n",
       "      <td>...</td>\n",
       "    </tr>\n",
       "    <tr>\n",
       "      <th>93</th>\n",
       "      <td>I walked out of shower and someone asked me fo...</td>\n",
       "      <td>Kriti Kambiri</td>\n",
       "      <td>Actress Ileana D'Cruz in an interview has reve...</td>\n",
       "      <td>07 May 2022,Saturday</td>\n",
       "      <td>entertainment</td>\n",
       "    </tr>\n",
       "    <tr>\n",
       "      <th>94</th>\n",
       "      <td>Took a while for me to get comfortable in my o...</td>\n",
       "      <td>Shiwangi</td>\n",
       "      <td>Actress Samantha Ruth Prabhu stated that it to...</td>\n",
       "      <td>07 May 2022,Saturday</td>\n",
       "      <td>entertainment</td>\n",
       "    </tr>\n",
       "    <tr>\n",
       "      <th>95</th>\n",
       "      <td>It breaks my heart: Depp's ex-fiancee amid def...</td>\n",
       "      <td>Kriti Kambiri</td>\n",
       "      <td>Johnny Depp's ex-fiancee Jennifer Grey has spo...</td>\n",
       "      <td>07 May 2022,Saturday</td>\n",
       "      <td>entertainment</td>\n",
       "    </tr>\n",
       "    <tr>\n",
       "      <th>96</th>\n",
       "      <td>Was called a 'stick' in South industry, asked ...</td>\n",
       "      <td>Udit Gupta</td>\n",
       "      <td>Rakul Preet Singh revealed that she was asked ...</td>\n",
       "      <td>07 May 2022,Saturday</td>\n",
       "      <td>entertainment</td>\n",
       "    </tr>\n",
       "    <tr>\n",
       "      <th>97</th>\n",
       "      <td>Beyond proud of you: Shibani as Farhan gets ca...</td>\n",
       "      <td>Udit Gupta</td>\n",
       "      <td>Shibani Dandekar took to Instagram on Saturday...</td>\n",
       "      <td>07 May 2022,Saturday</td>\n",
       "      <td>entertainment</td>\n",
       "    </tr>\n",
       "  </tbody>\n",
       "</table>\n",
       "<p>98 rows × 5 columns</p>\n",
       "</div>"
      ],
      "text/plain": [
       "                                                title             author  \\\n",
       "0   Reliance Industries becomes 1st Indian firm to...        Hiral Goyal   \n",
       "1   India's COVID-19 death numbers quite a bit low...    Sakshita Khosla   \n",
       "2   L&T lnfotech CEO quits citing personal reasons...        Hiral Goyal   \n",
       "3   Musk, Twitter sued by Florida pension fund to ...  Aishwarya Awasthi   \n",
       "4   Bled through my pants, couldn't get a tampon d...     Ridham Gambhir   \n",
       "..                                                ...                ...   \n",
       "93  I walked out of shower and someone asked me fo...      Kriti Kambiri   \n",
       "94  Took a while for me to get comfortable in my o...           Shiwangi   \n",
       "95  It breaks my heart: Depp's ex-fiancee amid def...      Kriti Kambiri   \n",
       "96  Was called a 'stick' in South industry, asked ...         Udit Gupta   \n",
       "97  Beyond proud of you: Shibani as Farhan gets ca...         Udit Gupta   \n",
       "\n",
       "                                              content                  date  \\\n",
       "0   Reliance Industries on Friday reported a net p...    06 May 2022,Friday   \n",
       "1   India's COVID-19 death numbers are \"quite a bi...    06 May 2022,Friday   \n",
       "2   Larsen & Toubro lnfotech on Friday said that i...    06 May 2022,Friday   \n",
       "3   Elon Musk and Twitter were sued by a Florida p...  07 May 2022,Saturday   \n",
       "4   A former employee at TikTok claimed that she b...  07 May 2022,Saturday   \n",
       "..                                                ...                   ...   \n",
       "93  Actress Ileana D'Cruz in an interview has reve...  07 May 2022,Saturday   \n",
       "94  Actress Samantha Ruth Prabhu stated that it to...  07 May 2022,Saturday   \n",
       "95  Johnny Depp's ex-fiancee Jennifer Grey has spo...  07 May 2022,Saturday   \n",
       "96  Rakul Preet Singh revealed that she was asked ...  07 May 2022,Saturday   \n",
       "97  Shibani Dandekar took to Instagram on Saturday...  07 May 2022,Saturday   \n",
       "\n",
       "         category  \n",
       "0        business  \n",
       "1        business  \n",
       "2        business  \n",
       "3        business  \n",
       "4        business  \n",
       "..            ...  \n",
       "93  entertainment  \n",
       "94  entertainment  \n",
       "95  entertainment  \n",
       "96  entertainment  \n",
       "97  entertainment  \n",
       "\n",
       "[98 rows x 5 columns]"
      ]
     },
     "execution_count": 28,
     "metadata": {},
     "output_type": "execute_result"
    }
   ],
   "source": [
    "get_inshorts_articles()"
   ]
  },
  {
   "cell_type": "code",
   "execution_count": null,
   "id": "0bb167e6",
   "metadata": {},
   "outputs": [],
   "source": []
  }
 ],
 "metadata": {
  "kernelspec": {
   "display_name": "Python 3 (ipykernel)",
   "language": "python",
   "name": "python3"
  },
  "language_info": {
   "codemirror_mode": {
    "name": "ipython",
    "version": 3
   },
   "file_extension": ".py",
   "mimetype": "text/x-python",
   "name": "python",
   "nbconvert_exporter": "python",
   "pygments_lexer": "ipython3",
   "version": "3.9.7"
  }
 },
 "nbformat": 4,
 "nbformat_minor": 5
}
